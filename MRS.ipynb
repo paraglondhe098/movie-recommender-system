{
 "cells": [
  {
   "cell_type": "markdown",
   "id": "7c18dcee",
   "metadata": {},
   "source": [
    "# Content Based Movie recommender System"
   ]
  },
  {
   "cell_type": "markdown",
   "id": "1f137f49",
   "metadata": {},
   "source": [
    "    In this project, we will use item metadata, such as genre, director, description, actors, etc., for movies to make recommendations. The general idea behind these recommender systems is that if a person likes a particular item, they will also like an item similar to it.\n",
    "    We will preprocess the data and make a single sentence consisting of all metadata. Then we make tokens out of that sentence and vectorize it to input numerical data to our model using the bag of words method. Then using our model, we will find cosine similarities (inverse of cosine distance) between every vector and suggest 'n' similar vectors representing movies. "
   ]
  },
  {
   "cell_type": "markdown",
   "id": "368bd03e",
   "metadata": {},
   "source": [
    "Dataset used : https://www.kaggle.com/datasets/tmdb/tmdb-movie-metadata"
   ]
  },
  {
   "cell_type": "code",
   "execution_count": 7,
   "id": "3f22ade5",
   "metadata": {
    "ExecuteTime": {
     "end_time": "2023-07-22T15:17:18.304922200Z",
     "start_time": "2023-07-22T15:17:18.241430400Z"
    }
   },
   "outputs": [],
   "source": [
    "#importing libraries\n",
    "import pandas as pd\n",
    "import numpy as np\n",
    "import matplotlib.pyplot as plt\n",
    "import seaborn as sns\n",
    "sns.set()"
   ]
  },
  {
   "cell_type": "markdown",
   "id": "b8ef6a4b",
   "metadata": {},
   "source": [
    "We will merge all collected datasets into single one on the basis of title"
   ]
  },
  {
   "cell_type": "code",
   "execution_count": 51,
   "id": "f3d5b358",
   "metadata": {
    "ExecuteTime": {
     "end_time": "2023-07-22T15:37:37.451301900Z",
     "start_time": "2023-07-22T15:37:37.041503Z"
    }
   },
   "outputs": [],
   "source": [
    "moviedata= pd.read_csv('Raw_data/movies.csv')\n",
    "creditsdata= pd.read_csv('Raw_data/credits.csv')"
   ]
  },
  {
   "cell_type": "code",
   "execution_count": 9,
   "id": "0f6569d7",
   "metadata": {
    "ExecuteTime": {
     "end_time": "2023-07-22T15:17:18.734437900Z",
     "start_time": "2023-07-22T15:17:18.703029400Z"
    }
   },
   "outputs": [],
   "source": [
    "data=moviedata.merge(creditsdata,on='title')"
   ]
  },
  {
   "cell_type": "markdown",
   "id": "532e7bfc",
   "metadata": {},
   "source": [
    "### Preprocessing"
   ]
  },
  {
   "cell_type": "code",
   "execution_count": 10,
   "id": "eae78c55",
   "metadata": {
    "ExecuteTime": {
     "end_time": "2023-07-22T15:17:18.812970600Z",
     "start_time": "2023-07-22T15:17:18.734437900Z"
    }
   },
   "outputs": [
    {
     "data": {
      "text/plain": "      budget                                             genres  \\\n0  237000000  [{\"id\": 28, \"name\": \"Action\"}, {\"id\": 12, \"nam...   \n1  300000000  [{\"id\": 12, \"name\": \"Adventure\"}, {\"id\": 14, \"...   \n\n                                       homepage     id  \\\n0                   http://www.avatarmovie.com/  19995   \n1  http://disney.go.com/disneypictures/pirates/    285   \n\n                                            keywords original_language  \\\n0  [{\"id\": 1463, \"name\": \"culture clash\"}, {\"id\":...                en   \n1  [{\"id\": 270, \"name\": \"ocean\"}, {\"id\": 726, \"na...                en   \n\n                             original_title  \\\n0                                    Avatar   \n1  Pirates of the Caribbean: At World's End   \n\n                                            overview  popularity  \\\n0  In the 22nd century, a paraplegic Marine is di...  150.437577   \n1  Captain Barbossa, long believed to be dead, ha...  139.082615   \n\n                                production_companies  ... runtime  \\\n0  [{\"name\": \"Ingenious Film Partners\", \"id\": 289...  ...   162.0   \n1  [{\"name\": \"Walt Disney Pictures\", \"id\": 2}, {\"...  ...   169.0   \n\n                                    spoken_languages    status  \\\n0  [{\"iso_639_1\": \"en\", \"name\": \"English\"}, {\"iso...  Released   \n1           [{\"iso_639_1\": \"en\", \"name\": \"English\"}]  Released   \n\n                                          tagline  \\\n0                     Enter the World of Pandora.   \n1  At the end of the world, the adventure begins.   \n\n                                      title vote_average vote_count movie_id  \\\n0                                    Avatar          7.2      11800    19995   \n1  Pirates of the Caribbean: At World's End          6.9       4500      285   \n\n                                                cast  \\\n0  [{\"cast_id\": 242, \"character\": \"Jake Sully\", \"...   \n1  [{\"cast_id\": 4, \"character\": \"Captain Jack Spa...   \n\n                                                crew  \n0  [{\"credit_id\": \"52fe48009251416c750aca23\", \"de...  \n1  [{\"credit_id\": \"52fe4232c3a36847f800b579\", \"de...  \n\n[2 rows x 23 columns]",
      "text/html": "<div>\n<style scoped>\n    .dataframe tbody tr th:only-of-type {\n        vertical-align: middle;\n    }\n\n    .dataframe tbody tr th {\n        vertical-align: top;\n    }\n\n    .dataframe thead th {\n        text-align: right;\n    }\n</style>\n<table border=\"1\" class=\"dataframe\">\n  <thead>\n    <tr style=\"text-align: right;\">\n      <th></th>\n      <th>budget</th>\n      <th>genres</th>\n      <th>homepage</th>\n      <th>id</th>\n      <th>keywords</th>\n      <th>original_language</th>\n      <th>original_title</th>\n      <th>overview</th>\n      <th>popularity</th>\n      <th>production_companies</th>\n      <th>...</th>\n      <th>runtime</th>\n      <th>spoken_languages</th>\n      <th>status</th>\n      <th>tagline</th>\n      <th>title</th>\n      <th>vote_average</th>\n      <th>vote_count</th>\n      <th>movie_id</th>\n      <th>cast</th>\n      <th>crew</th>\n    </tr>\n  </thead>\n  <tbody>\n    <tr>\n      <th>0</th>\n      <td>237000000</td>\n      <td>[{\"id\": 28, \"name\": \"Action\"}, {\"id\": 12, \"nam...</td>\n      <td>http://www.avatarmovie.com/</td>\n      <td>19995</td>\n      <td>[{\"id\": 1463, \"name\": \"culture clash\"}, {\"id\":...</td>\n      <td>en</td>\n      <td>Avatar</td>\n      <td>In the 22nd century, a paraplegic Marine is di...</td>\n      <td>150.437577</td>\n      <td>[{\"name\": \"Ingenious Film Partners\", \"id\": 289...</td>\n      <td>...</td>\n      <td>162.0</td>\n      <td>[{\"iso_639_1\": \"en\", \"name\": \"English\"}, {\"iso...</td>\n      <td>Released</td>\n      <td>Enter the World of Pandora.</td>\n      <td>Avatar</td>\n      <td>7.2</td>\n      <td>11800</td>\n      <td>19995</td>\n      <td>[{\"cast_id\": 242, \"character\": \"Jake Sully\", \"...</td>\n      <td>[{\"credit_id\": \"52fe48009251416c750aca23\", \"de...</td>\n    </tr>\n    <tr>\n      <th>1</th>\n      <td>300000000</td>\n      <td>[{\"id\": 12, \"name\": \"Adventure\"}, {\"id\": 14, \"...</td>\n      <td>http://disney.go.com/disneypictures/pirates/</td>\n      <td>285</td>\n      <td>[{\"id\": 270, \"name\": \"ocean\"}, {\"id\": 726, \"na...</td>\n      <td>en</td>\n      <td>Pirates of the Caribbean: At World's End</td>\n      <td>Captain Barbossa, long believed to be dead, ha...</td>\n      <td>139.082615</td>\n      <td>[{\"name\": \"Walt Disney Pictures\", \"id\": 2}, {\"...</td>\n      <td>...</td>\n      <td>169.0</td>\n      <td>[{\"iso_639_1\": \"en\", \"name\": \"English\"}]</td>\n      <td>Released</td>\n      <td>At the end of the world, the adventure begins.</td>\n      <td>Pirates of the Caribbean: At World's End</td>\n      <td>6.9</td>\n      <td>4500</td>\n      <td>285</td>\n      <td>[{\"cast_id\": 4, \"character\": \"Captain Jack Spa...</td>\n      <td>[{\"credit_id\": \"52fe4232c3a36847f800b579\", \"de...</td>\n    </tr>\n  </tbody>\n</table>\n<p>2 rows × 23 columns</p>\n</div>"
     },
     "execution_count": 10,
     "metadata": {},
     "output_type": "execute_result"
    }
   ],
   "source": [
    "data.head(2)"
   ]
  },
  {
   "cell_type": "code",
   "execution_count": 10,
   "id": "ccf1d007",
   "metadata": {
    "ExecuteTime": {
     "end_time": "2023-07-22T15:17:18.875904400Z",
     "start_time": "2023-07-22T15:17:18.766082Z"
    }
   },
   "outputs": [],
   "source": []
  },
  {
   "cell_type": "code",
   "execution_count": 11,
   "id": "2b55b373",
   "metadata": {
    "ExecuteTime": {
     "end_time": "2023-07-22T15:17:18.891552700Z",
     "start_time": "2023-07-22T15:17:18.781730500Z"
    }
   },
   "outputs": [
    {
     "data": {
      "text/plain": "budget                     0\ngenres                     0\nhomepage                3096\nid                         0\nkeywords                   0\noriginal_language          0\noriginal_title             0\noverview                   3\npopularity                 0\nproduction_companies       0\nproduction_countries       0\nrelease_date               1\nrevenue                    0\nruntime                    2\nspoken_languages           0\nstatus                     0\ntagline                  844\ntitle                      0\nvote_average               0\nvote_count                 0\nmovie_id                   0\ncast                       0\ncrew                       0\ndtype: int64"
     },
     "execution_count": 11,
     "metadata": {},
     "output_type": "execute_result"
    }
   ],
   "source": [
    "data.isnull().sum()"
   ]
  },
  {
   "cell_type": "code",
   "execution_count": 12,
   "id": "8f8367f3",
   "metadata": {
    "ExecuteTime": {
     "end_time": "2023-07-22T15:17:18.891552700Z",
     "start_time": "2023-07-22T15:17:18.812970600Z"
    }
   },
   "outputs": [],
   "source": [
    "data = data.drop(['homepage','tagline'],axis=1)"
   ]
  },
  {
   "cell_type": "code",
   "execution_count": 13,
   "id": "1bf62e63",
   "metadata": {
    "ExecuteTime": {
     "end_time": "2023-07-22T15:17:18.988875Z",
     "start_time": "2023-07-22T15:17:18.844218900Z"
    }
   },
   "outputs": [],
   "source": [
    "data=data.dropna()"
   ]
  },
  {
   "cell_type": "code",
   "execution_count": 14,
   "id": "21e2fb2b",
   "metadata": {
    "ExecuteTime": {
     "end_time": "2023-07-22T15:17:18.988875Z",
     "start_time": "2023-07-22T15:17:18.875904400Z"
    }
   },
   "outputs": [],
   "source": [
    "# data.isnull().sum()"
   ]
  },
  {
   "cell_type": "code",
   "execution_count": 15,
   "id": "4323f960",
   "metadata": {
    "ExecuteTime": {
     "end_time": "2023-07-22T15:17:18.988875Z",
     "start_time": "2023-07-22T15:17:18.875904400Z"
    }
   },
   "outputs": [
    {
     "data": {
      "text/plain": "0"
     },
     "execution_count": 15,
     "metadata": {},
     "output_type": "execute_result"
    }
   ],
   "source": [
    "data.duplicated().sum()"
   ]
  },
  {
   "cell_type": "code",
   "execution_count": 16,
   "id": "f195b6e9",
   "metadata": {
    "ExecuteTime": {
     "end_time": "2023-07-22T15:17:19.004501700Z",
     "start_time": "2023-07-22T15:17:18.988875Z"
    }
   },
   "outputs": [
    {
     "data": {
      "text/plain": "array(['budget', 'genres', 'id', 'keywords', 'original_language',\n       'original_title', 'overview', 'popularity', 'production_companies',\n       'production_countries', 'release_date', 'revenue', 'runtime',\n       'spoken_languages', 'status', 'title', 'vote_average',\n       'vote_count', 'movie_id', 'cast', 'crew'], dtype=object)"
     },
     "execution_count": 16,
     "metadata": {},
     "output_type": "execute_result"
    }
   ],
   "source": [
    "data.columns.values"
   ]
  },
  {
   "cell_type": "code",
   "execution_count": 17,
   "id": "0e7088e7",
   "metadata": {
    "ExecuteTime": {
     "end_time": "2023-07-22T15:17:19.091793200Z",
     "start_time": "2023-07-22T15:17:19.004501700Z"
    }
   },
   "outputs": [],
   "source": [
    "# We will select important columns to determine similarities between two movies\n",
    "# It should explain content of movie properly\n",
    "movies=data[['movie_id','title','overview','genres','keywords','cast', 'crew']]"
   ]
  },
  {
   "cell_type": "code",
   "execution_count": 18,
   "id": "6e595c23",
   "metadata": {
    "ExecuteTime": {
     "end_time": "2023-07-22T15:17:19.107417300Z",
     "start_time": "2023-07-22T15:17:19.020130300Z"
    }
   },
   "outputs": [],
   "source": [
    "# we need another dataframe to fetch all the info about the movie\n",
    "movieinfo= data[['movie_id','release_date','runtime','vote_count','vote_average','original_language','budget']]"
   ]
  },
  {
   "cell_type": "code",
   "execution_count": 19,
   "id": "467d270f",
   "metadata": {
    "ExecuteTime": {
     "end_time": "2023-07-22T15:17:19.107417300Z",
     "start_time": "2023-07-22T15:17:19.035754700Z"
    }
   },
   "outputs": [
    {
     "data": {
      "text/plain": "   movie_id release_date  runtime  vote_count  vote_average original_language  \\\n0     19995   2009-12-10    162.0       11800           7.2                en   \n1       285   2007-05-19    169.0        4500           6.9                en   \n\n      budget  \n0  237000000  \n1  300000000  ",
      "text/html": "<div>\n<style scoped>\n    .dataframe tbody tr th:only-of-type {\n        vertical-align: middle;\n    }\n\n    .dataframe tbody tr th {\n        vertical-align: top;\n    }\n\n    .dataframe thead th {\n        text-align: right;\n    }\n</style>\n<table border=\"1\" class=\"dataframe\">\n  <thead>\n    <tr style=\"text-align: right;\">\n      <th></th>\n      <th>movie_id</th>\n      <th>release_date</th>\n      <th>runtime</th>\n      <th>vote_count</th>\n      <th>vote_average</th>\n      <th>original_language</th>\n      <th>budget</th>\n    </tr>\n  </thead>\n  <tbody>\n    <tr>\n      <th>0</th>\n      <td>19995</td>\n      <td>2009-12-10</td>\n      <td>162.0</td>\n      <td>11800</td>\n      <td>7.2</td>\n      <td>en</td>\n      <td>237000000</td>\n    </tr>\n    <tr>\n      <th>1</th>\n      <td>285</td>\n      <td>2007-05-19</td>\n      <td>169.0</td>\n      <td>4500</td>\n      <td>6.9</td>\n      <td>en</td>\n      <td>300000000</td>\n    </tr>\n  </tbody>\n</table>\n</div>"
     },
     "execution_count": 19,
     "metadata": {},
     "output_type": "execute_result"
    }
   ],
   "source": [
    "movieinfo.head(2)"
   ]
  },
  {
   "cell_type": "code",
   "execution_count": 20,
   "id": "7d9a5f3c",
   "metadata": {
    "ExecuteTime": {
     "end_time": "2023-07-22T15:17:19.107417300Z",
     "start_time": "2023-07-22T15:17:19.060601100Z"
    }
   },
   "outputs": [
    {
     "data": {
      "text/plain": "   movie_id                                     title  \\\n0     19995                                    Avatar   \n1       285  Pirates of the Caribbean: At World's End   \n\n                                            overview  \\\n0  In the 22nd century, a paraplegic Marine is di...   \n1  Captain Barbossa, long believed to be dead, ha...   \n\n                                              genres  \\\n0  [{\"id\": 28, \"name\": \"Action\"}, {\"id\": 12, \"nam...   \n1  [{\"id\": 12, \"name\": \"Adventure\"}, {\"id\": 14, \"...   \n\n                                            keywords  \\\n0  [{\"id\": 1463, \"name\": \"culture clash\"}, {\"id\":...   \n1  [{\"id\": 270, \"name\": \"ocean\"}, {\"id\": 726, \"na...   \n\n                                                cast  \\\n0  [{\"cast_id\": 242, \"character\": \"Jake Sully\", \"...   \n1  [{\"cast_id\": 4, \"character\": \"Captain Jack Spa...   \n\n                                                crew  \n0  [{\"credit_id\": \"52fe48009251416c750aca23\", \"de...  \n1  [{\"credit_id\": \"52fe4232c3a36847f800b579\", \"de...  ",
      "text/html": "<div>\n<style scoped>\n    .dataframe tbody tr th:only-of-type {\n        vertical-align: middle;\n    }\n\n    .dataframe tbody tr th {\n        vertical-align: top;\n    }\n\n    .dataframe thead th {\n        text-align: right;\n    }\n</style>\n<table border=\"1\" class=\"dataframe\">\n  <thead>\n    <tr style=\"text-align: right;\">\n      <th></th>\n      <th>movie_id</th>\n      <th>title</th>\n      <th>overview</th>\n      <th>genres</th>\n      <th>keywords</th>\n      <th>cast</th>\n      <th>crew</th>\n    </tr>\n  </thead>\n  <tbody>\n    <tr>\n      <th>0</th>\n      <td>19995</td>\n      <td>Avatar</td>\n      <td>In the 22nd century, a paraplegic Marine is di...</td>\n      <td>[{\"id\": 28, \"name\": \"Action\"}, {\"id\": 12, \"nam...</td>\n      <td>[{\"id\": 1463, \"name\": \"culture clash\"}, {\"id\":...</td>\n      <td>[{\"cast_id\": 242, \"character\": \"Jake Sully\", \"...</td>\n      <td>[{\"credit_id\": \"52fe48009251416c750aca23\", \"de...</td>\n    </tr>\n    <tr>\n      <th>1</th>\n      <td>285</td>\n      <td>Pirates of the Caribbean: At World's End</td>\n      <td>Captain Barbossa, long believed to be dead, ha...</td>\n      <td>[{\"id\": 12, \"name\": \"Adventure\"}, {\"id\": 14, \"...</td>\n      <td>[{\"id\": 270, \"name\": \"ocean\"}, {\"id\": 726, \"na...</td>\n      <td>[{\"cast_id\": 4, \"character\": \"Captain Jack Spa...</td>\n      <td>[{\"credit_id\": \"52fe4232c3a36847f800b579\", \"de...</td>\n    </tr>\n  </tbody>\n</table>\n</div>"
     },
     "execution_count": 20,
     "metadata": {},
     "output_type": "execute_result"
    }
   ],
   "source": [
    "movies.head(2)"
   ]
  },
  {
   "cell_type": "code",
   "execution_count": 21,
   "id": "fea02b7c",
   "metadata": {
    "ExecuteTime": {
     "end_time": "2023-07-22T15:17:19.107417300Z",
     "start_time": "2023-07-22T15:17:19.091793200Z"
    }
   },
   "outputs": [
    {
     "data": {
      "text/plain": "'[{\"id\": 28, \"name\": \"Action\"}, {\"id\": 12, \"name\": \"Adventure\"}, {\"id\": 14, \"name\": \"Fantasy\"}, {\"id\": 878, \"name\": \"Science Fiction\"}]'"
     },
     "execution_count": 21,
     "metadata": {},
     "output_type": "execute_result"
    }
   ],
   "source": [
    "# Here genres, keywords, cast and crew are in dict format we should convert it into list of str\n",
    "movies['genres'][0]"
   ]
  },
  {
   "cell_type": "code",
   "execution_count": 22,
   "id": "f0da99ac",
   "metadata": {
    "ExecuteTime": {
     "end_time": "2023-07-22T15:17:19.107417300Z",
     "start_time": "2023-07-22T15:17:19.091793200Z"
    }
   },
   "outputs": [],
   "source": [
    "import ast"
   ]
  },
  {
   "cell_type": "code",
   "execution_count": 23,
   "id": "95f16db7",
   "metadata": {
    "ExecuteTime": {
     "end_time": "2023-07-22T15:17:19.374309700Z",
     "start_time": "2023-07-22T15:17:19.170319300Z"
    }
   },
   "outputs": [
    {
     "name": "stderr",
     "output_type": "stream",
     "text": [
      "C:\\Users\\Parag\\AppData\\Local\\Temp\\ipykernel_10632\\3201412697.py:6: SettingWithCopyWarning: \n",
      "A value is trying to be set on a copy of a slice from a DataFrame.\n",
      "Try using .loc[row_indexer,col_indexer] = value instead\n",
      "\n",
      "See the caveats in the documentation: https://pandas.pydata.org/pandas-docs/stable/user_guide/indexing.html#returning-a-view-versus-a-copy\n",
      "  movies['genres']=movies['genres'].apply(converter)\n"
     ]
    },
    {
     "data": {
      "text/plain": "['Action', 'Adventure', 'Fantasy', 'Science Fiction']"
     },
     "execution_count": 23,
     "metadata": {},
     "output_type": "execute_result"
    }
   ],
   "source": [
    "def converter(obj):\n",
    "    L=[]\n",
    "    for i in ast.literal_eval(obj):\n",
    "        L.append((i['name']))\n",
    "    return L\n",
    "movies['genres']=movies['genres'].apply(converter)\n",
    "movies['genres'][0]"
   ]
  },
  {
   "cell_type": "code",
   "execution_count": 24,
   "id": "3715ed13",
   "metadata": {
    "ExecuteTime": {
     "end_time": "2023-07-22T15:17:19.642286700Z",
     "start_time": "2023-07-22T15:17:19.265600Z"
    }
   },
   "outputs": [
    {
     "name": "stderr",
     "output_type": "stream",
     "text": [
      "C:\\Users\\Parag\\AppData\\Local\\Temp\\ipykernel_10632\\2300612961.py:1: SettingWithCopyWarning: \n",
      "A value is trying to be set on a copy of a slice from a DataFrame.\n",
      "Try using .loc[row_indexer,col_indexer] = value instead\n",
      "\n",
      "See the caveats in the documentation: https://pandas.pydata.org/pandas-docs/stable/user_guide/indexing.html#returning-a-view-versus-a-copy\n",
      "  movies['keywords']=movies['keywords'].apply(converter)\n"
     ]
    },
    {
     "data": {
      "text/plain": "['culture clash',\n 'future',\n 'space war',\n 'space colony',\n 'society',\n 'space travel',\n 'futuristic',\n 'romance',\n 'space',\n 'alien',\n 'tribe',\n 'alien planet',\n 'cgi',\n 'marine',\n 'soldier',\n 'battle',\n 'love affair',\n 'anti war',\n 'power relations',\n 'mind and soul',\n '3d']"
     },
     "execution_count": 24,
     "metadata": {},
     "output_type": "execute_result"
    }
   ],
   "source": [
    "movies['keywords']=movies['keywords'].apply(converter)\n",
    "movies['keywords'][0]"
   ]
  },
  {
   "cell_type": "code",
   "execution_count": 25,
   "id": "cfa08e19",
   "metadata": {
    "ExecuteTime": {
     "end_time": "2023-07-22T15:17:22.489278300Z",
     "start_time": "2023-07-22T15:17:19.642286700Z"
    }
   },
   "outputs": [
    {
     "name": "stderr",
     "output_type": "stream",
     "text": [
      "C:\\Users\\Parag\\AppData\\Local\\Temp\\ipykernel_10632\\777580444.py:12: SettingWithCopyWarning: \n",
      "A value is trying to be set on a copy of a slice from a DataFrame.\n",
      "Try using .loc[row_indexer,col_indexer] = value instead\n",
      "\n",
      "See the caveats in the documentation: https://pandas.pydata.org/pandas-docs/stable/user_guide/indexing.html#returning-a-view-versus-a-copy\n",
      "  movies['cast']=movies['cast'].apply(converter2)\n"
     ]
    },
    {
     "data": {
      "text/plain": "['Sam Worthington', 'Zoe Saldana', 'Sigourney Weaver']"
     },
     "execution_count": 25,
     "metadata": {},
     "output_type": "execute_result"
    }
   ],
   "source": [
    "def converter2(obj):\n",
    "    #we need only top 3 casts\n",
    "    L=[]\n",
    "    counter=0\n",
    "    for i in ast.literal_eval(obj):\n",
    "        if counter!=3:\n",
    "            L.append((i['name']))\n",
    "            counter+=1\n",
    "        else:\n",
    "            break\n",
    "    return L\n",
    "movies['cast']=movies['cast'].apply(converter2)\n",
    "movies['cast'][0]"
   ]
  },
  {
   "cell_type": "code",
   "execution_count": 26,
   "id": "c36eac00",
   "metadata": {
    "ExecuteTime": {
     "end_time": "2023-07-22T15:17:25.525222900Z",
     "start_time": "2023-07-22T15:17:22.489278300Z"
    }
   },
   "outputs": [
    {
     "name": "stderr",
     "output_type": "stream",
     "text": [
      "C:\\Users\\Parag\\AppData\\Local\\Temp\\ipykernel_10632\\2346847261.py:11: SettingWithCopyWarning: \n",
      "A value is trying to be set on a copy of a slice from a DataFrame.\n",
      "Try using .loc[row_indexer,col_indexer] = value instead\n",
      "\n",
      "See the caveats in the documentation: https://pandas.pydata.org/pandas-docs/stable/user_guide/indexing.html#returning-a-view-versus-a-copy\n",
      "  movies['crew']=movies['crew'].apply(converter3)\n"
     ]
    },
    {
     "data": {
      "text/plain": "['James Cameron']"
     },
     "execution_count": 26,
     "metadata": {},
     "output_type": "execute_result"
    }
   ],
   "source": [
    "def converter3(obj):\n",
    "    #We only need director of the movie\n",
    "    L=[]\n",
    "    for i in ast.literal_eval(obj):\n",
    "        if i['job']=='Director':\n",
    "            L.append((i['name']))\n",
    "            break\n",
    "        else:\n",
    "            continue\n",
    "    return L\n",
    "movies['crew']=movies['crew'].apply(converter3)\n",
    "movies['crew'][0]"
   ]
  },
  {
   "cell_type": "code",
   "execution_count": 27,
   "id": "57b358a5",
   "metadata": {
    "ExecuteTime": {
     "end_time": "2023-07-22T15:17:25.588479200Z",
     "start_time": "2023-07-22T15:17:25.530632Z"
    }
   },
   "outputs": [
    {
     "data": {
      "text/plain": "   movie_id                                     title  \\\n0     19995                                    Avatar   \n1       285  Pirates of the Caribbean: At World's End   \n\n                                            overview  \\\n0  In the 22nd century, a paraplegic Marine is di...   \n1  Captain Barbossa, long believed to be dead, ha...   \n\n                                          genres  \\\n0  [Action, Adventure, Fantasy, Science Fiction]   \n1                   [Adventure, Fantasy, Action]   \n\n                                            keywords  \\\n0  [culture clash, future, space war, space colon...   \n1  [ocean, drug abuse, exotic island, east india ...   \n\n                                               cast              crew  \n0  [Sam Worthington, Zoe Saldana, Sigourney Weaver]   [James Cameron]  \n1     [Johnny Depp, Orlando Bloom, Keira Knightley]  [Gore Verbinski]  ",
      "text/html": "<div>\n<style scoped>\n    .dataframe tbody tr th:only-of-type {\n        vertical-align: middle;\n    }\n\n    .dataframe tbody tr th {\n        vertical-align: top;\n    }\n\n    .dataframe thead th {\n        text-align: right;\n    }\n</style>\n<table border=\"1\" class=\"dataframe\">\n  <thead>\n    <tr style=\"text-align: right;\">\n      <th></th>\n      <th>movie_id</th>\n      <th>title</th>\n      <th>overview</th>\n      <th>genres</th>\n      <th>keywords</th>\n      <th>cast</th>\n      <th>crew</th>\n    </tr>\n  </thead>\n  <tbody>\n    <tr>\n      <th>0</th>\n      <td>19995</td>\n      <td>Avatar</td>\n      <td>In the 22nd century, a paraplegic Marine is di...</td>\n      <td>[Action, Adventure, Fantasy, Science Fiction]</td>\n      <td>[culture clash, future, space war, space colon...</td>\n      <td>[Sam Worthington, Zoe Saldana, Sigourney Weaver]</td>\n      <td>[James Cameron]</td>\n    </tr>\n    <tr>\n      <th>1</th>\n      <td>285</td>\n      <td>Pirates of the Caribbean: At World's End</td>\n      <td>Captain Barbossa, long believed to be dead, ha...</td>\n      <td>[Adventure, Fantasy, Action]</td>\n      <td>[ocean, drug abuse, exotic island, east india ...</td>\n      <td>[Johnny Depp, Orlando Bloom, Keira Knightley]</td>\n      <td>[Gore Verbinski]</td>\n    </tr>\n  </tbody>\n</table>\n</div>"
     },
     "execution_count": 27,
     "metadata": {},
     "output_type": "execute_result"
    }
   ],
   "source": [
    "movies.head(2)"
   ]
  },
  {
   "cell_type": "code",
   "execution_count": 28,
   "id": "6ca22f8e",
   "metadata": {
    "ExecuteTime": {
     "end_time": "2023-07-22T15:17:25.635374700Z",
     "start_time": "2023-07-22T15:17:25.541154500Z"
    }
   },
   "outputs": [
    {
     "name": "stderr",
     "output_type": "stream",
     "text": [
      "C:\\Users\\Parag\\AppData\\Local\\Temp\\ipykernel_10632\\1724180617.py:2: SettingWithCopyWarning: \n",
      "A value is trying to be set on a copy of a slice from a DataFrame.\n",
      "Try using .loc[row_indexer,col_indexer] = value instead\n",
      "\n",
      "See the caveats in the documentation: https://pandas.pydata.org/pandas-docs/stable/user_guide/indexing.html#returning-a-view-versus-a-copy\n",
      "  movies['overview']=movies['overview'].apply(lambda x:x.split())\n"
     ]
    }
   ],
   "source": [
    "# Now we will bring overview in similar format\n",
    "movies['overview']=movies['overview'].apply(lambda x:x.split())"
   ]
  },
  {
   "cell_type": "code",
   "execution_count": 29,
   "id": "3ab3e013",
   "metadata": {
    "ExecuteTime": {
     "end_time": "2023-07-22T15:17:25.635374700Z",
     "start_time": "2023-07-22T15:17:25.588479200Z"
    }
   },
   "outputs": [
    {
     "data": {
      "text/plain": "   movie_id                                     title  \\\n0     19995                                    Avatar   \n1       285  Pirates of the Caribbean: At World's End   \n\n                                            overview  \\\n0  [In, the, 22nd, century,, a, paraplegic, Marin...   \n1  [Captain, Barbossa,, long, believed, to, be, d...   \n\n                                          genres  \\\n0  [Action, Adventure, Fantasy, Science Fiction]   \n1                   [Adventure, Fantasy, Action]   \n\n                                            keywords  \\\n0  [culture clash, future, space war, space colon...   \n1  [ocean, drug abuse, exotic island, east india ...   \n\n                                               cast              crew  \n0  [Sam Worthington, Zoe Saldana, Sigourney Weaver]   [James Cameron]  \n1     [Johnny Depp, Orlando Bloom, Keira Knightley]  [Gore Verbinski]  ",
      "text/html": "<div>\n<style scoped>\n    .dataframe tbody tr th:only-of-type {\n        vertical-align: middle;\n    }\n\n    .dataframe tbody tr th {\n        vertical-align: top;\n    }\n\n    .dataframe thead th {\n        text-align: right;\n    }\n</style>\n<table border=\"1\" class=\"dataframe\">\n  <thead>\n    <tr style=\"text-align: right;\">\n      <th></th>\n      <th>movie_id</th>\n      <th>title</th>\n      <th>overview</th>\n      <th>genres</th>\n      <th>keywords</th>\n      <th>cast</th>\n      <th>crew</th>\n    </tr>\n  </thead>\n  <tbody>\n    <tr>\n      <th>0</th>\n      <td>19995</td>\n      <td>Avatar</td>\n      <td>[In, the, 22nd, century,, a, paraplegic, Marin...</td>\n      <td>[Action, Adventure, Fantasy, Science Fiction]</td>\n      <td>[culture clash, future, space war, space colon...</td>\n      <td>[Sam Worthington, Zoe Saldana, Sigourney Weaver]</td>\n      <td>[James Cameron]</td>\n    </tr>\n    <tr>\n      <th>1</th>\n      <td>285</td>\n      <td>Pirates of the Caribbean: At World's End</td>\n      <td>[Captain, Barbossa,, long, believed, to, be, d...</td>\n      <td>[Adventure, Fantasy, Action]</td>\n      <td>[ocean, drug abuse, exotic island, east india ...</td>\n      <td>[Johnny Depp, Orlando Bloom, Keira Knightley]</td>\n      <td>[Gore Verbinski]</td>\n    </tr>\n  </tbody>\n</table>\n</div>"
     },
     "execution_count": 29,
     "metadata": {},
     "output_type": "execute_result"
    }
   ],
   "source": [
    "movies.head(2)"
   ]
  },
  {
   "cell_type": "code",
   "execution_count": 30,
   "id": "0cff2fa8",
   "metadata": {
    "ExecuteTime": {
     "end_time": "2023-07-22T15:17:25.666637100Z",
     "start_time": "2023-07-22T15:17:25.588479200Z"
    }
   },
   "outputs": [
    {
     "name": "stderr",
     "output_type": "stream",
     "text": [
      "C:\\Users\\Parag\\AppData\\Local\\Temp\\ipykernel_10632\\2611326976.py:1: SettingWithCopyWarning: \n",
      "A value is trying to be set on a copy of a slice from a DataFrame.\n",
      "Try using .loc[row_indexer,col_indexer] = value instead\n",
      "\n",
      "See the caveats in the documentation: https://pandas.pydata.org/pandas-docs/stable/user_guide/indexing.html#returning-a-view-versus-a-copy\n",
      "  movieinfo['cast']=movies['cast']\n",
      "C:\\Users\\Parag\\AppData\\Local\\Temp\\ipykernel_10632\\2611326976.py:2: SettingWithCopyWarning: \n",
      "A value is trying to be set on a copy of a slice from a DataFrame.\n",
      "Try using .loc[row_indexer,col_indexer] = value instead\n",
      "\n",
      "See the caveats in the documentation: https://pandas.pydata.org/pandas-docs/stable/user_guide/indexing.html#returning-a-view-versus-a-copy\n",
      "  movieinfo['director']=movies['crew']\n",
      "C:\\Users\\Parag\\AppData\\Local\\Temp\\ipykernel_10632\\2611326976.py:3: SettingWithCopyWarning: \n",
      "A value is trying to be set on a copy of a slice from a DataFrame.\n",
      "Try using .loc[row_indexer,col_indexer] = value instead\n",
      "\n",
      "See the caveats in the documentation: https://pandas.pydata.org/pandas-docs/stable/user_guide/indexing.html#returning-a-view-versus-a-copy\n",
      "  movieinfo['genre']=movies['genres']\n"
     ]
    }
   ],
   "source": [
    "movieinfo['cast']=movies['cast']\n",
    "movieinfo['director']=movies['crew']\n",
    "movieinfo['genre']=movies['genres']"
   ]
  },
  {
   "cell_type": "code",
   "execution_count": 31,
   "id": "6bc94d5f",
   "metadata": {
    "ExecuteTime": {
     "end_time": "2023-07-22T15:17:26.473672600Z",
     "start_time": "2023-07-22T15:17:25.604127100Z"
    }
   },
   "outputs": [],
   "source": [
    "# Now, we should remove stopwords and perform stemming\n",
    "from nltk.stem.porter import PorterStemmer\n",
    "from nltk.corpus import stopwords\n",
    "sw=stopwords.words('english')\n",
    "ps=PorterStemmer() #<-- To stem"
   ]
  },
  {
   "cell_type": "code",
   "execution_count": 32,
   "id": "7a69d15f",
   "metadata": {
    "ExecuteTime": {
     "end_time": "2023-07-22T15:17:29.573133Z",
     "start_time": "2023-07-22T15:17:26.473672600Z"
    }
   },
   "outputs": [
    {
     "name": "stderr",
     "output_type": "stream",
     "text": [
      "C:\\Users\\Parag\\AppData\\Local\\Temp\\ipykernel_10632\\282084074.py:12: SettingWithCopyWarning: \n",
      "A value is trying to be set on a copy of a slice from a DataFrame.\n",
      "Try using .loc[row_indexer,col_indexer] = value instead\n",
      "\n",
      "See the caveats in the documentation: https://pandas.pydata.org/pandas-docs/stable/user_guide/indexing.html#returning-a-view-versus-a-copy\n",
      "  movies['overview']=movies['overview'].apply(clean)\n",
      "C:\\Users\\Parag\\AppData\\Local\\Temp\\ipykernel_10632\\282084074.py:13: SettingWithCopyWarning: \n",
      "A value is trying to be set on a copy of a slice from a DataFrame.\n",
      "Try using .loc[row_indexer,col_indexer] = value instead\n",
      "\n",
      "See the caveats in the documentation: https://pandas.pydata.org/pandas-docs/stable/user_guide/indexing.html#returning-a-view-versus-a-copy\n",
      "  movies['keywords']=movies['keywords'].apply(clean2)\n"
     ]
    }
   ],
   "source": [
    "def clean(wordlist):\n",
    "    L=[]\n",
    "    for i in wordlist:\n",
    "        if i not in sw:\n",
    "            L.append(ps.stem(i.lower()))\n",
    "    return L\n",
    "def clean2(wordlist):\n",
    "    L=[]\n",
    "    for i in wordlist:\n",
    "        L.append(ps.stem(i.lower()))\n",
    "    return L\n",
    "movies['overview']=movies['overview'].apply(clean)\n",
    "movies['keywords']=movies['keywords'].apply(clean2)"
   ]
  },
  {
   "cell_type": "code",
   "execution_count": 33,
   "id": "fc028474",
   "metadata": {
    "ExecuteTime": {
     "end_time": "2023-07-22T15:17:29.651569700Z",
     "start_time": "2023-07-22T15:17:29.573133Z"
    }
   },
   "outputs": [
    {
     "name": "stderr",
     "output_type": "stream",
     "text": [
      "C:\\Users\\Parag\\AppData\\Local\\Temp\\ipykernel_10632\\3754880013.py:3: SettingWithCopyWarning: \n",
      "A value is trying to be set on a copy of a slice from a DataFrame.\n",
      "Try using .loc[row_indexer,col_indexer] = value instead\n",
      "\n",
      "See the caveats in the documentation: https://pandas.pydata.org/pandas-docs/stable/user_guide/indexing.html#returning-a-view-versus-a-copy\n",
      "  movies['cast']=movies['cast'].apply(lambda x:[i.replace(\" \",\"\")for i in x])\n",
      "C:\\Users\\Parag\\AppData\\Local\\Temp\\ipykernel_10632\\3754880013.py:4: SettingWithCopyWarning: \n",
      "A value is trying to be set on a copy of a slice from a DataFrame.\n",
      "Try using .loc[row_indexer,col_indexer] = value instead\n",
      "\n",
      "See the caveats in the documentation: https://pandas.pydata.org/pandas-docs/stable/user_guide/indexing.html#returning-a-view-versus-a-copy\n",
      "  movies['crew']=movies['crew'].apply(lambda x:[i.replace(\" \",\"\")for i in x])\n",
      "C:\\Users\\Parag\\AppData\\Local\\Temp\\ipykernel_10632\\3754880013.py:5: SettingWithCopyWarning: \n",
      "A value is trying to be set on a copy of a slice from a DataFrame.\n",
      "Try using .loc[row_indexer,col_indexer] = value instead\n",
      "\n",
      "See the caveats in the documentation: https://pandas.pydata.org/pandas-docs/stable/user_guide/indexing.html#returning-a-view-versus-a-copy\n",
      "  movies['keywords']=movies['keywords'].apply(lambda x:[i.replace(\" \",\"\")for i in x])\n",
      "C:\\Users\\Parag\\AppData\\Local\\Temp\\ipykernel_10632\\3754880013.py:6: SettingWithCopyWarning: \n",
      "A value is trying to be set on a copy of a slice from a DataFrame.\n",
      "Try using .loc[row_indexer,col_indexer] = value instead\n",
      "\n",
      "See the caveats in the documentation: https://pandas.pydata.org/pandas-docs/stable/user_guide/indexing.html#returning-a-view-versus-a-copy\n",
      "  movies['genres']=movies['genres'].apply(lambda x:[i.replace(\" \",\"\")for i in x])\n"
     ]
    }
   ],
   "source": [
    "# Now we will remove spaces between sentences like culture clash --> cultureclash, James Cameron --> JamesCameron\n",
    "# Because in the process of tokenization of words they could lose meanings \n",
    "movies['cast']=movies['cast'].apply(lambda x:[i.replace(\" \",\"\")for i in x])\n",
    "movies['crew']=movies['crew'].apply(lambda x:[i.replace(\" \",\"\")for i in x])\n",
    "movies['keywords']=movies['keywords'].apply(lambda x:[i.replace(\" \",\"\")for i in x])\n",
    "movies['genres']=movies['genres'].apply(lambda x:[i.replace(\" \",\"\")for i in x])"
   ]
  },
  {
   "cell_type": "code",
   "execution_count": 34,
   "id": "b8b2914b",
   "metadata": {
    "ExecuteTime": {
     "end_time": "2023-07-22T15:17:29.651569700Z",
     "start_time": "2023-07-22T15:17:29.604682500Z"
    }
   },
   "outputs": [
    {
     "data": {
      "text/plain": "   movie_id                                     title  \\\n0     19995                                    Avatar   \n1       285  Pirates of the Caribbean: At World's End   \n\n                                            overview  \\\n0  [in, 22nd, century,, parapleg, marin, dispatch...   \n1  [captain, barbossa,, long, believ, dead,, come...   \n\n                                         genres  \\\n0  [Action, Adventure, Fantasy, ScienceFiction]   \n1                  [Adventure, Fantasy, Action]   \n\n                                            keywords  \\\n0  [cultureclash, futur, spacewar, spacecoloni, s...   \n1  [ocean, drugabus, exoticisland, eastindiatradi...   \n\n                                            cast             crew  \n0  [SamWorthington, ZoeSaldana, SigourneyWeaver]   [JamesCameron]  \n1     [JohnnyDepp, OrlandoBloom, KeiraKnightley]  [GoreVerbinski]  ",
      "text/html": "<div>\n<style scoped>\n    .dataframe tbody tr th:only-of-type {\n        vertical-align: middle;\n    }\n\n    .dataframe tbody tr th {\n        vertical-align: top;\n    }\n\n    .dataframe thead th {\n        text-align: right;\n    }\n</style>\n<table border=\"1\" class=\"dataframe\">\n  <thead>\n    <tr style=\"text-align: right;\">\n      <th></th>\n      <th>movie_id</th>\n      <th>title</th>\n      <th>overview</th>\n      <th>genres</th>\n      <th>keywords</th>\n      <th>cast</th>\n      <th>crew</th>\n    </tr>\n  </thead>\n  <tbody>\n    <tr>\n      <th>0</th>\n      <td>19995</td>\n      <td>Avatar</td>\n      <td>[in, 22nd, century,, parapleg, marin, dispatch...</td>\n      <td>[Action, Adventure, Fantasy, ScienceFiction]</td>\n      <td>[cultureclash, futur, spacewar, spacecoloni, s...</td>\n      <td>[SamWorthington, ZoeSaldana, SigourneyWeaver]</td>\n      <td>[JamesCameron]</td>\n    </tr>\n    <tr>\n      <th>1</th>\n      <td>285</td>\n      <td>Pirates of the Caribbean: At World's End</td>\n      <td>[captain, barbossa,, long, believ, dead,, come...</td>\n      <td>[Adventure, Fantasy, Action]</td>\n      <td>[ocean, drugabus, exoticisland, eastindiatradi...</td>\n      <td>[JohnnyDepp, OrlandoBloom, KeiraKnightley]</td>\n      <td>[GoreVerbinski]</td>\n    </tr>\n  </tbody>\n</table>\n</div>"
     },
     "execution_count": 34,
     "metadata": {},
     "output_type": "execute_result"
    }
   ],
   "source": [
    "movies.head(2)"
   ]
  },
  {
   "cell_type": "code",
   "execution_count": 35,
   "id": "af5233d5",
   "metadata": {
    "ExecuteTime": {
     "end_time": "2023-07-22T15:17:29.651569700Z",
     "start_time": "2023-07-22T15:17:29.620317700Z"
    }
   },
   "outputs": [],
   "source": [
    "# we save a copy of movies\n",
    "moviesdata=movies.copy()"
   ]
  },
  {
   "cell_type": "code",
   "execution_count": 36,
   "id": "e80937f8",
   "metadata": {
    "ExecuteTime": {
     "end_time": "2023-07-22T15:17:29.769320200Z",
     "start_time": "2023-07-22T15:17:29.635953600Z"
    }
   },
   "outputs": [
    {
     "name": "stderr",
     "output_type": "stream",
     "text": [
      "C:\\Users\\Parag\\AppData\\Local\\Temp\\ipykernel_10632\\291095968.py:2: SettingWithCopyWarning: \n",
      "A value is trying to be set on a copy of a slice from a DataFrame.\n",
      "Try using .loc[row_indexer,col_indexer] = value instead\n",
      "\n",
      "See the caveats in the documentation: https://pandas.pydata.org/pandas-docs/stable/user_guide/indexing.html#returning-a-view-versus-a-copy\n",
      "  movies['tags']=movies['overview']+movies['genres']+movies['keywords']+movies['cast']+movies['crew']\n",
      "C:\\Users\\Parag\\AppData\\Local\\Temp\\ipykernel_10632\\291095968.py:3: SettingWithCopyWarning: \n",
      "A value is trying to be set on a copy of a slice from a DataFrame.\n",
      "Try using .loc[row_indexer,col_indexer] = value instead\n",
      "\n",
      "See the caveats in the documentation: https://pandas.pydata.org/pandas-docs/stable/user_guide/indexing.html#returning-a-view-versus-a-copy\n",
      "  movies['tags']=movies['tags'].apply(lambda x: \" \".join(x) )\n",
      "C:\\Users\\Parag\\AppData\\Local\\Temp\\ipykernel_10632\\291095968.py:4: SettingWithCopyWarning: \n",
      "A value is trying to be set on a copy of a slice from a DataFrame.\n",
      "Try using .loc[row_indexer,col_indexer] = value instead\n",
      "\n",
      "See the caveats in the documentation: https://pandas.pydata.org/pandas-docs/stable/user_guide/indexing.html#returning-a-view-versus-a-copy\n",
      "  movies['tags']=movies['tags'].apply(lambda x: x.lower() )\n"
     ]
    }
   ],
   "source": [
    "#Now we will join all the columns except title & make a single string by joining all of them\n",
    "movies['tags']=movies['overview']+movies['genres']+movies['keywords']+movies['cast']+movies['crew']\n",
    "movies['tags']=movies['tags'].apply(lambda x: \" \".join(x) )\n",
    "movies['tags']=movies['tags'].apply(lambda x: x.lower() )"
   ]
  },
  {
   "cell_type": "code",
   "execution_count": 37,
   "id": "9bbf11b8",
   "metadata": {
    "ExecuteTime": {
     "end_time": "2023-07-22T15:17:29.769320200Z",
     "start_time": "2023-07-22T15:17:29.706817Z"
    }
   },
   "outputs": [
    {
     "data": {
      "text/plain": "\"captain barbossa, long believ dead, come back life head edg earth will turner elizabeth swann. but noth quit seems. adventure fantasy action ocean drugabus exoticisland eastindiatradingcompani loveofone'slif traitor shipwreck strongwoman ship allianc calypso afterlif fighter pirat swashbuckl aftercreditssting johnnydepp orlandobloom keiraknightley goreverbinski\""
     },
     "execution_count": 37,
     "metadata": {},
     "output_type": "execute_result"
    }
   ],
   "source": [
    "movies['tags'][1]"
   ]
  },
  {
   "cell_type": "code",
   "execution_count": 38,
   "id": "8f0516a7",
   "metadata": {
    "ExecuteTime": {
     "end_time": "2023-07-22T15:17:29.769320200Z",
     "start_time": "2023-07-22T15:17:29.738072500Z"
    }
   },
   "outputs": [
    {
     "data": {
      "text/plain": "array(['movie_id', 'title', 'overview', 'genres', 'keywords', 'cast',\n       'crew', 'tags'], dtype=object)"
     },
     "execution_count": 38,
     "metadata": {},
     "output_type": "execute_result"
    }
   ],
   "source": [
    "movies.columns.values"
   ]
  },
  {
   "cell_type": "code",
   "execution_count": 39,
   "id": "77d7e5f6",
   "metadata": {
    "ExecuteTime": {
     "end_time": "2023-07-22T15:17:29.769320200Z",
     "start_time": "2023-07-22T15:17:29.738072500Z"
    }
   },
   "outputs": [
    {
     "data": {
      "text/plain": "   movie_id                                     title  \\\n0     19995                                    Avatar   \n1       285  Pirates of the Caribbean: At World's End   \n\n                                                tags  \n0  in 22nd century, parapleg marin dispatch moon ...  \n1  captain barbossa, long believ dead, come back ...  ",
      "text/html": "<div>\n<style scoped>\n    .dataframe tbody tr th:only-of-type {\n        vertical-align: middle;\n    }\n\n    .dataframe tbody tr th {\n        vertical-align: top;\n    }\n\n    .dataframe thead th {\n        text-align: right;\n    }\n</style>\n<table border=\"1\" class=\"dataframe\">\n  <thead>\n    <tr style=\"text-align: right;\">\n      <th></th>\n      <th>movie_id</th>\n      <th>title</th>\n      <th>tags</th>\n    </tr>\n  </thead>\n  <tbody>\n    <tr>\n      <th>0</th>\n      <td>19995</td>\n      <td>Avatar</td>\n      <td>in 22nd century, parapleg marin dispatch moon ...</td>\n    </tr>\n    <tr>\n      <th>1</th>\n      <td>285</td>\n      <td>Pirates of the Caribbean: At World's End</td>\n      <td>captain barbossa, long believ dead, come back ...</td>\n    </tr>\n  </tbody>\n</table>\n</div>"
     },
     "execution_count": 39,
     "metadata": {},
     "output_type": "execute_result"
    }
   ],
   "source": [
    "movies=movies.drop(['overview','genres','keywords','cast','crew'],axis=1)\n",
    "movies.head(2)"
   ]
  },
  {
   "cell_type": "markdown",
   "id": "b6c1ea93",
   "metadata": {},
   "source": [
    "This is the format ie [ Index | title | tags ] we need for further processing"
   ]
  },
  {
   "cell_type": "code",
   "execution_count": 40,
   "id": "e0460535",
   "metadata": {
    "ExecuteTime": {
     "end_time": "2023-07-22T15:17:29.979668500Z",
     "start_time": "2023-07-22T15:17:29.753681300Z"
    }
   },
   "outputs": [],
   "source": [
    "# movies.to_csv('Preprocessed.csv')"
   ]
  },
  {
   "cell_type": "markdown",
   "id": "cbd7cc8b",
   "metadata": {},
   "source": [
    "## Vectorization and Model building"
   ]
  },
  {
   "cell_type": "code",
   "execution_count": 41,
   "id": "a2716b77",
   "metadata": {
    "ExecuteTime": {
     "end_time": "2023-07-22T15:17:29.996385100Z",
     "start_time": "2023-07-22T15:17:29.979668500Z"
    }
   },
   "outputs": [],
   "source": [
    "from sklearn.feature_extraction.text import CountVectorizer\n",
    "from sklearn.metrics.pairwise import cosine_similarity\n",
    "import pickle"
   ]
  },
  {
   "cell_type": "code",
   "execution_count": 42,
   "id": "c9446b5a",
   "metadata": {
    "ExecuteTime": {
     "end_time": "2023-07-22T15:17:30.042731400Z",
     "start_time": "2023-07-22T15:17:29.996385100Z"
    }
   },
   "outputs": [
    {
     "data": {
      "text/plain": "int"
     },
     "execution_count": 42,
     "metadata": {},
     "output_type": "execute_result"
    }
   ],
   "source": [
    "t=3\n",
    "type(t)"
   ]
  },
  {
   "cell_type": "markdown",
   "source": [
    "Methods in class movierecomender will process our cleaned data and recomend movies. In future if we found more data the we can append it by using update method of this class."
   ],
   "metadata": {
    "collapsed": false
   }
  },
  {
   "cell_type": "code",
   "execution_count": 43,
   "id": "ba64d884",
   "metadata": {
    "ExecuteTime": {
     "end_time": "2023-07-22T15:17:30.042731400Z",
     "start_time": "2023-07-22T15:17:30.011428500Z"
    }
   },
   "outputs": [],
   "source": [
    "class MovieRecommender:\n",
    "#     data\n",
    "#     vectors\n",
    "#     cv\n",
    "#     max_features\n",
    "#     This class can help to increase reusability of the code. Once data has been cleaned we remain no more modifications\n",
    "#     so the same code can help us. It also allows to update data and we don't have to perform all steps again\n",
    "    def __init__(self,data=pd.DataFrame(columns=['movie_id','title','tags']),max_features=5000):\n",
    "        self.data=data\n",
    "        self.max_features=max_features\n",
    "        self.cv =CountVectorizer(max_features=self.max_features,stop_words='english')\n",
    "        self.vectorize()\n",
    "    def vectorize(self):\n",
    "        self.vectors=self.cv.fit_transform(self.data['tags']).toarray()\n",
    "        self.similarity=cosine_similarity(self.vectors)\n",
    "    def get_cosine_similarities(self,index=0):\n",
    "        return sorted(list(enumerate(self.similarity[index])),reverse=True,key=lambda x : x[1])\n",
    "    def index_of(self,title):\n",
    "        return self.data[self.data['title']==title].index[0]\n",
    "    def recommend(self,input_movie=\"Avatar\",numbers=5):\n",
    "        try:\n",
    "            if (type(input_movie)==int):\n",
    "                movie_index=input_movie\n",
    "            else :\n",
    "                movie_index=self.index_of(input_movie)\n",
    "            movies_list = self.get_cosine_similarities(movie_index)[1:numbers+1]\n",
    "            recommended=[]\n",
    "            for i in movies_list:\n",
    "                recommended.append(self.data['title'][i[0]])\n",
    "            return recommended\n",
    "        except IndexError:\n",
    "            return \"Invalid input!\"\n",
    "    @property\n",
    "    def feature_names(self):\n",
    "        return self.cv.get_feature_names_out()\n",
    "    \n",
    "    def update(self, data2,new_max_features=None):\n",
    "        if new_max_features!=None:\n",
    "            self.max_features=new_max_features\n",
    "        self.data= pd.concat([self.data,data2])\n",
    "        self.data=self.data.drop_duplicates()\n",
    "        self.cv =CountVectorizer(max_features=self.max_features,stop_words='english')\n",
    "        self.vectorize()\n",
    "    def dumpdata(self):\n",
    "        pickle.dump((self.data.drop(['tags'],axis=1)).to_dict() ,open('Data/movies.pkl','wb'))\n",
    "        pickle.dump(self.similarity,open('Data/similarity.pkl','wb'))"
   ]
  },
  {
   "cell_type": "code",
   "execution_count": 43,
   "id": "22fbd2b5",
   "metadata": {
    "ExecuteTime": {
     "end_time": "2023-07-22T15:17:30.042731400Z",
     "start_time": "2023-07-22T15:17:30.042731400Z"
    }
   },
   "outputs": [],
   "source": []
  },
  {
   "cell_type": "code",
   "execution_count": 44,
   "id": "dfa38b1f",
   "metadata": {
    "ExecuteTime": {
     "end_time": "2023-07-22T15:17:31.515768500Z",
     "start_time": "2023-07-22T15:17:30.042731400Z"
    }
   },
   "outputs": [],
   "source": [
    "mr= MovieRecommender(movies)"
   ]
  },
  {
   "cell_type": "code",
   "execution_count": 44,
   "id": "693208c8",
   "metadata": {
    "ExecuteTime": {
     "end_time": "2023-07-22T15:17:31.531394400Z",
     "start_time": "2023-07-22T15:17:31.515768500Z"
    }
   },
   "outputs": [],
   "source": []
  },
  {
   "cell_type": "code",
   "execution_count": 45,
   "id": "6b82a775",
   "metadata": {
    "ExecuteTime": {
     "end_time": "2023-07-22T15:17:31.547018800Z",
     "start_time": "2023-07-22T15:17:31.531394400Z"
    }
   },
   "outputs": [
    {
     "data": {
      "text/plain": "['Aliens vs Predator: Requiem',\n 'Aliens',\n 'Anne of Green Gables',\n 'Titan A.E.',\n 'Independence Day',\n 'Battle: Los Angeles',\n 'Predators',\n 'Small Soldiers',\n 'Meet Dave',\n 'Jupiter Ascending',\n 'Lifeforce',\n 'This Is England',\n 'The Vatican Tapes']"
     },
     "execution_count": 45,
     "metadata": {},
     "output_type": "execute_result"
    }
   ],
   "source": [
    "mr.recommend('Avatar',13)"
   ]
  },
  {
   "cell_type": "code",
   "execution_count": 46,
   "id": "4a8c88ee",
   "metadata": {
    "ExecuteTime": {
     "end_time": "2023-07-22T15:17:31.614133600Z",
     "start_time": "2023-07-22T15:17:31.547018800Z"
    }
   },
   "outputs": [
    {
     "data": {
      "text/plain": "array([1.        , 0.08471737, 0.0860309 , ..., 0.02271554, 0.        ,\n       0.        ])"
     },
     "execution_count": 46,
     "metadata": {},
     "output_type": "execute_result"
    }
   ],
   "source": [
    "mr.similarity[0]"
   ]
  },
  {
   "cell_type": "markdown",
   "source": [
    "Dumpdata method will export movies list and similarity matrix into .pkl file"
   ],
   "metadata": {
    "collapsed": false
   }
  },
  {
   "cell_type": "code",
   "execution_count": 47,
   "id": "93fc0736",
   "metadata": {
    "ExecuteTime": {
     "end_time": "2023-07-22T15:17:32.340659100Z",
     "start_time": "2023-07-22T15:17:31.562645200Z"
    }
   },
   "outputs": [],
   "source": [
    "# mr.dumpdata()"
   ]
  },
  {
   "cell_type": "code",
   "execution_count": 47,
   "outputs": [],
   "source": [],
   "metadata": {
    "collapsed": false,
    "ExecuteTime": {
     "end_time": "2023-07-22T15:17:32.356262100Z",
     "start_time": "2023-07-22T15:17:32.340659100Z"
    }
   }
  }
 ],
 "metadata": {
  "kernelspec": {
   "display_name": "Python 3 (ipykernel)",
   "language": "python",
   "name": "python3"
  },
  "language_info": {
   "codemirror_mode": {
    "name": "ipython",
    "version": 3
   },
   "file_extension": ".py",
   "mimetype": "text/x-python",
   "name": "python",
   "nbconvert_exporter": "python",
   "pygments_lexer": "ipython3",
   "version": "3.10.9"
  }
 },
 "nbformat": 4,
 "nbformat_minor": 5
}
